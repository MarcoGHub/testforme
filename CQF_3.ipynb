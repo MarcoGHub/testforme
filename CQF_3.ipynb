{
 "cells": [
  {
   "cell_type": "markdown",
   "metadata": {},
   "source": [
    "# CQF - Assignment for Module 3\n",
    "Autor: Marco Kretschmann\n",
    "Email: marco.kretschmann@icloud.com"
   ]
  },
  {
   "cell_type": "markdown",
   "metadata": {},
   "source": [
    "<center>**Abstract**</center>\n",
    "My text"
   ]
  },
  {
   "cell_type": "markdown",
   "metadata": {},
   "source": [
    "## Introduction\n",
    "A standard (vanilla) option is a contract that gives the holder the right to buy or sell an underlying asset at a specified price on a specified date. The payoff is related to the underlying asset price. A call option gives the holder the right to buy an underlying asset at the strike price. At expiry date the value of the option is known. For a call it is the maximum of zero and asset price (S) minus the strike price (E), max(0, S-E). For a put the value at expiry is max(0, E-S).\n",
    "A binary or sometimes also calles digital option belongs to the group of exotic options. The payoffs are not linearly correlated with the price of the underlying. The binary call option pays a predetermined amount if the price of the underlying asset exceeds the strike price on expiration date. For a put the payoff is paid if the price of the asset is below the strike price.\n",
    "In the following analysis I will focus on a binary **call** option of the type \"cash-or-nothing\". That means that at expiry a fixed amount of cash is transferred. Furhermore I assume for simplicity that the contract pays 1 unit of cash at expiry."
   ]
  },
  {
   "cell_type": "markdown",
   "metadata": {},
   "source": [
    "## Setting up the model\n",
    "The expected value of the discounted payoff under the risk neutral density $\\mathbb{Q}$ is defined as\n",
    "$$ V(S,t) = e^{-r(T-t)}\\mathbb{E}^\\mathbb{Q}[\\text{Payoff}(S_T)]$$\n",
    "The todays stock price is denoted by $S_0$, the strike price by $E$, the time to expiry $T-t$ is measured in years. The volatility is deoted by $\\sigma$ and the risk free rate $r$ is assumed to be constant.\n",
    "- $S_0 = 100$\n",
    "- $E = 100$\n",
    "- $T-t = 1$\n",
    "- $\\sigma$ = 20% = 0.2\n",
    "- $r$ = 5% = 0.05\n",
    "We are asked to use the Euler-Maruyama scheme to simulate the underlying stock price. Therefore I set one year to 252 days and $\\delta t$ to 1/252.\n",
    "The payoff of the binary option is described by the Heaviside function\n",
    "$$\n",
    "\\mathcal{H}(x)= \n",
    "\\begin{cases}\n",
    "      1 & \\text{$x>0$}\\\\\n",
    "      0 & \\text{$x\\leq0$}\n",
    "    \\end{cases}\n",
    "$$\n",
    "For the case of our binary call option the Heaviside function can be rewritten as\n",
    "$$\n",
    "\\text{Payoff} = \\mathcal{H}(x)= \n",
    "\\begin{cases}\n",
    "      1 & \\text{$S(T)>E$}\\\\\n",
    "      0 & \\text{otherwise}\n",
    "    \\end{cases}\n",
    "$$"
   ]
  },
  {
   "cell_type": "code",
   "execution_count": null,
   "metadata": {},
   "outputs": [],
   "source": [
    "S_0       <- 100\n",
    "E         <- 100\n",
    "maturity  <- 1\n",
    "days      <- 252\n",
    "dt        <- 1 / days\n",
    "sigma     <- 0.2\n",
    "r         <- 0.05"
   ]
  },
  {
   "cell_type": "code",
   "execution_count": null,
   "metadata": {},
   "outputs": [],
   "source": [
    "print(E)"
   ]
  },
  {
   "cell_type": "code",
   "execution_count": null,
   "metadata": {},
   "outputs": [],
   "source": []
  }
 ],
 "metadata": {
  "kernelspec": {
   "display_name": "R",
   "language": "R",
   "name": "ir"
  }
 },
 "nbformat": 4,
 "nbformat_minor": 4
}
